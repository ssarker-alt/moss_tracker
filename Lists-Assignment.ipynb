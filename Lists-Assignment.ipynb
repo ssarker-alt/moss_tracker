{
 "cells": [
  {
   "cell_type": "markdown",
   "metadata": {},
   "source": [
    "# Python Lists Assignment (Revised)\n",
    "\n",
    "## Exercise 1: List Creation and Basic Operations\n",
    "\n",
    "Lists in Python are flexible structures that can hold various data types, essential for organizing and manipulating data.\n"
   ]
  },
  {
   "cell_type": "markdown",
   "metadata": {},
   "source": [
    "* **Task 1.1:** Create a list named `my_list` with the elements `1`,  `\"hello\"`, and `3.14`. Print the list to verify its contents.\n"
   ]
  },
  {
   "cell_type": "code",
   "execution_count": null,
   "metadata": {},
   "outputs": [],
   "source": [
    "# Task 1.1"
   ]
  },
  {
   "cell_type": "markdown",
   "metadata": {},
   "source": [
    "* **Task 1.2:** Add the number `5` to `my_list` using the `append()` method and print the updated list.\n"
   ]
  },
  {
   "cell_type": "code",
   "execution_count": null,
   "metadata": {},
   "outputs": [],
   "source": [
    "# Task 1.2"
   ]
  },
  {
   "cell_type": "markdown",
   "metadata": {},
   "source": [
    "* **Task 1.3:** Now extend `my_list` by adding two elements,  `6` and `7`, in a single operation. Print the updated list.\n"
   ]
  },
  {
   "cell_type": "code",
   "execution_count": null,
   "metadata": {},
   "outputs": [],
   "source": [
    "# Task 1.3"
   ]
  },
  {
   "cell_type": "markdown",
   "metadata": {},
   "source": [
    "## Exercise 2: Advanced List Manipulations\n",
    "\n",
    "Further understanding of lists involves mastering their more complex behaviors.\n",
    "\n",
    "* **Task 2.1:** Insert the string `\"inserted\"` at the third position in `my_list` using the `insert()` method and print the modified list.\n"
   ]
  },
  {
   "cell_type": "code",
   "execution_count": null,
   "metadata": {},
   "outputs": [],
   "source": [
    "# Task 2.1"
   ]
  },
  {
   "cell_type": "markdown",
   "metadata": {},
   "source": [
    "* **Task 2.2:** Use the `pop()` method to remove the element at the fourth position in `my_list`. Store the popped item in a variable named `popped_element` and print both `popped_element` and the updated `my_list`.\n"
   ]
  },
  {
   "cell_type": "code",
   "execution_count": null,
   "metadata": {},
   "outputs": [],
   "source": [
    "# Task 2.2"
   ]
  },
  {
   "cell_type": "markdown",
   "metadata": {},
   "source": [
    "* **Task 2.3:** Remove the first occurrence of the element `3.14` from `my_list` using the `remove()` method. Print the updated list.\n"
   ]
  },
  {
   "cell_type": "code",
   "execution_count": null,
   "metadata": {},
   "outputs": [],
   "source": [
    "# Task 2.3"
   ]
  },
  {
   "cell_type": "markdown",
   "metadata": {},
   "source": [
    "* **Task 2.4:** Sort `my_list` in ascending order using the `sort()` method and then print the sorted list.\n"
   ]
  },
  {
   "cell_type": "code",
   "execution_count": null,
   "metadata": {},
   "outputs": [],
   "source": [
    "# Task 2.4"
   ]
  },
  {
   "cell_type": "markdown",
   "metadata": {},
   "source": [
    "## Exercise 3: Exploring Nested Lists\n",
    "\n",
    "Nested lists provide a way to store and manipulate multidimensional data.\n",
    "\n",
    "* **Task 3.1:** Create a nested list named `nested_list` consisting of three lists: `[1, 2, 3]`,  `[\"a\", \"b\", \"c\"]`, and `[4.5, 5.6]`. Print `nested_list`."
   ]
  },
  {
   "cell_type": "code",
   "execution_count": null,
   "metadata": {},
   "outputs": [],
   "source": [
    "# Task 3.1"
   ]
  },
  {
   "cell_type": "markdown",
   "metadata": {},
   "source": [
    "* **Task 3.2:** Access and print the second element from the first inner list of `nested_list`."
   ]
  },
  {
   "cell_type": "code",
   "execution_count": null,
   "metadata": {},
   "outputs": [],
   "source": [
    "# Task 3.2"
   ]
  },
  {
   "cell_type": "markdown",
   "metadata": {},
   "source": [
    "## Reflection\n",
    "\n",
    "After completing these exercises, consider the following questions and write a short paragraph reflecting on your answers:\n",
    "\n",
    "* How do lists in Python enhance the management and manipulation of data?\n",
    "* Describe a situation where a nested list might be more beneficial than a flat list.\n"
   ]
  },
  {
   "cell_type": "markdown",
   "metadata": {},
   "source": []
  }
 ],
 "metadata": {
  "language_info": {
   "name": "python"
  }
 },
 "nbformat": 4,
 "nbformat_minor": 2
}
