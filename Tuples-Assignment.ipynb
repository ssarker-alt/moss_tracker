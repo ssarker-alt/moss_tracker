{
 "cells": [
  {
   "cell_type": "markdown",
   "metadata": {},
   "source": [
    "# Tuples in Python Assignment\n",
    "\n",
    "## Exercise 1: Tuple Basics\n",
    "\n",
    "Tuples are immutable collections in Python for storing a sequence of heterogeneous elements.\n",
    "\n",
    "* **Task 1.1:** Create a tuple named `my_tuple` with the elements `1`,  `\"hello\"`, and `3.14`. Print the tuple to verify its contents.\n"
   ]
  },
  {
   "cell_type": "code",
   "execution_count": null,
   "metadata": {},
   "outputs": [],
   "source": [
    "# Task 1.1"
   ]
  },
  {
   "cell_type": "markdown",
   "metadata": {},
   "source": [
    "* **Task 1.2:** Access and print the first element of `my_tuple` using indexing.\n"
   ]
  },
  {
   "cell_type": "code",
   "execution_count": null,
   "metadata": {},
   "outputs": [],
   "source": [
    "# Task 1.2"
   ]
  },
  {
   "cell_type": "markdown",
   "metadata": {},
   "source": [
    "## Exercise 2: Tuple Operations and Methods\n",
    "\n",
    "Understanding and using tuple methods and operations is essential for efficient Python programming.\n",
    "\n",
    "* **Task 2.1:** Use the `count()` method to find and print the number of times `1` appears in `my_tuple`.\n"
   ]
  },
  {
   "cell_type": "code",
   "execution_count": null,
   "metadata": {},
   "outputs": [],
   "source": [
    "# Task 2.1"
   ]
  },
  {
   "cell_type": "markdown",
   "metadata": {},
   "source": [
    "* **Task 2.2:** Find and print the index of `\"hello\"` in `my_tuple` using the `index()` method.\n"
   ]
  },
  {
   "cell_type": "code",
   "execution_count": null,
   "metadata": {},
   "outputs": [],
   "source": [
    "# Task 2.2"
   ]
  },
  {
   "cell_type": "markdown",
   "metadata": {},
   "source": [
    "## Exercise 3: Tuple Immutability\n",
    "\n",
    "Immutability is a defining characteristic of tuples that differentiates them from lists.\n",
    "\n",
    "* **Task 3.1:** Attempt to change the second element of `my_tuple` to `\"world\"` and observe the result. Note the type of error message you receive.\n"
   ]
  },
  {
   "cell_type": "code",
   "execution_count": null,
   "metadata": {},
   "outputs": [],
   "source": [
    "# Task 3.1"
   ]
  },
  {
   "cell_type": "markdown",
   "metadata": {},
   "source": [
    "* **Task 3.2:** Reflect on why this error occurred and what it signifies about the nature of tuples.\n"
   ]
  },
  {
   "cell_type": "code",
   "execution_count": null,
   "metadata": {},
   "outputs": [],
   "source": [
    "# Task 3.2"
   ]
  },
  {
   "cell_type": "markdown",
   "metadata": {},
   "source": [
    "## Exercise 4: Tuple Packing and Unpacking\n",
    "\n",
    "Tuple packing and unpacking are potent features in Python for handling multiple data items.\n",
    "\n",
    "* **Task 4.1:** Create a tuple `packed_tuple` with values `2`,  `4`, and `6` using tuple packing. Print `packed_tuple`.\n"
   ]
  },
  {
   "cell_type": "code",
   "execution_count": null,
   "metadata": {},
   "outputs": [],
   "source": [
    "# Task 4.1"
   ]
  },
  {
   "cell_type": "markdown",
   "metadata": {},
   "source": [
    "* **Task 4.2:** Unpack `packed_tuple` into three variables `a`,  `b`, and `c` and print their values.\n"
   ]
  },
  {
   "cell_type": "code",
   "execution_count": null,
   "metadata": {},
   "outputs": [],
   "source": [
    "# Task 4.2"
   ]
  },
  {
   "cell_type": "markdown",
   "metadata": {},
   "source": [
    "## Exercise 5: When to Use Tuples\n",
    "\n",
    "Understanding when to choose tuples over lists is essential for efficient Python programming.\n",
    "\n",
    "* **Task 5.1:** Write a short paragraph explaining a scenario where using a tuple would be more appropriate than a list. Consider aspects like data integrity, performance, and the immutability of tuples.\n"
   ]
  },
  {
   "cell_type": "markdown",
   "metadata": {},
   "source": [
    "Task 5.1:\n"
   ]
  },
  {
   "cell_type": "markdown",
   "metadata": {},
   "source": [
    "## Reflection\n",
    "\n",
    "After completing these exercises, reflect on the following:\n",
    "\n",
    "* How do tuples enhance data integrity in Python programming?\n",
    "* How do tuples' immutability and performance benefits influence how you might use them in future projects?\n",
    "* Describe how tuple packing and unpacking can produce more readable and efficient code.\n",
    "\n",
    "By engaging with these exercises, you will understand the importance and utility of tuples in Python programming.\n"
   ]
  }
 ],
 "metadata": {
  "language_info": {
   "name": "python"
  }
 },
 "nbformat": 4,
 "nbformat_minor": 2
}
